{
 "cells": [
  {
   "cell_type": "markdown",
   "metadata": {},
   "source": [
    "## Здравствуйте! Сегодня мы поизучаем Python\n",
    "\n",
    "Для того, чтобы начать, нужно установить python.\n",
    "Анаконда:\n",
    "https://docs.anaconda.com/anaconda/install/\n",
    "\n",
    "Чат группы:\n",
    "<ссылка на чат в телеге>\n",
    "\n",
    "Для того, чтобы начать практиковаться, необходимо запустить jupyter notebook.\n",
    "\n",
    "new -> python 3\n",
    "\n"
   ]
  },
  {
   "cell_type": "markdown",
   "metadata": {},
   "source": [
    "Начнем с команды print, потому что она самая простая.\n",
    "Чтобы запустить код ниже, выделите ячейку и нажмите Run (Ctrl+Enter)"
   ]
  },
  {
   "cell_type": "code",
   "execution_count": 1,
   "metadata": {},
   "outputs": [
    {
     "name": "stdout",
     "output_type": "stream",
     "text": [
      "Привет!\n"
     ]
    }
   ],
   "source": [
    "print('Привет!')"
   ]
  },
  {
   "cell_type": "markdown",
   "metadata": {},
   "source": [
    "Как видите, print выводит на экран текст, который вы указали в кавычках:"
   ]
  },
  {
   "cell_type": "code",
   "execution_count": 2,
   "metadata": {},
   "outputs": [
    {
     "name": "stdout",
     "output_type": "stream",
     "text": [
      "Любой текст, который вы пишете, будет написан\n"
     ]
    }
   ],
   "source": [
    "print('Любой текст, который вы пишете, будет написан')"
   ]
  },
  {
   "cell_type": "markdown",
   "metadata": {},
   "source": [
    "Можно выводить несколько сущностей одновременно. Обратите внимание на то, что не всегда всё нужно окружать кавычками:"
   ]
  },
  {
   "cell_type": "code",
   "execution_count": 3,
   "metadata": {},
   "outputs": [
    {
     "name": "stdout",
     "output_type": "stream",
     "text": [
      "все слова разделены 1 пробелом\n"
     ]
    }
   ],
   "source": [
    "print('все', 'слова', 'разделены', 1, 'пробелом')"
   ]
  },
  {
   "cell_type": "markdown",
   "metadata": {},
   "source": [
    "Можно сделать программу, состоящую из нескольких команд:"
   ]
  },
  {
   "cell_type": "code",
   "execution_count": 4,
   "metadata": {},
   "outputs": [
    {
     "name": "stdout",
     "output_type": "stream",
     "text": [
      "текст 1\n",
      "текст 2\n",
      "текст 3\n"
     ]
    }
   ],
   "source": [
    "print('текст', 1)\n",
    "print('текст', 2)\n",
    "print('текст', 3)"
   ]
  },
  {
   "cell_type": "code",
   "execution_count": 5,
   "metadata": {},
   "outputs": [
    {
     "name": "stdout",
     "output_type": "stream",
     "text": [
      "sample text\n",
      "вы напечатали sample text\n"
     ]
    }
   ],
   "source": [
    "text = input()\n",
    "print('вы напечатали', text)"
   ]
  },
  {
   "cell_type": "markdown",
   "metadata": {},
   "source": [
    "Мы сохранили введённый пользователем текст в переменную text. переменная - это НЕЧТО, имеющее название и значение. в нашем случае название переменной - 'text', а значение - введённый вами текст. Название переменной не обязано совпадать с её содержимым, но мы рекомендуем называть их осмысленно.\n",
    "\n",
    "= это оператор присваивания. С помощью него можно сохранить значение справа от оператора в переменной слева:"
   ]
  },
  {
   "cell_type": "code",
   "execution_count": 10,
   "metadata": {},
   "outputs": [
    {
     "name": "stdout",
     "output_type": "stream",
     "text": [
      "мама Малыша не продаст его за 100000000000\n"
     ]
    }
   ],
   "source": [
    "n = 100000000000\n",
    "print('мама Малыша не продаст его за', n)"
   ]
  },
  {
   "cell_type": "markdown",
   "metadata": {},
   "source": [
    "В python можно писать комментарии в коде с помощью # :"
   ]
  },
  {
   "cell_type": "code",
   "execution_count": 12,
   "metadata": {},
   "outputs": [],
   "source": [
    "a = 10  # Это комментарий"
   ]
  },
  {
   "cell_type": "markdown",
   "metadata": {},
   "source": [
    "С числами можно выполнять различные математические операции $(+, -, *, /, **)$:"
   ]
  },
  {
   "cell_type": "code",
   "execution_count": 28,
   "metadata": {},
   "outputs": [
    {
     "name": "stdout",
     "output_type": "stream",
     "text": [
      "5\n"
     ]
    }
   ],
   "source": [
    "print(2 + 3)"
   ]
  },
  {
   "cell_type": "code",
   "execution_count": 46,
   "metadata": {},
   "outputs": [
    {
     "name": "stdout",
     "output_type": "stream",
     "text": [
      "7\n",
      "14\n",
      "27\n"
     ]
    }
   ],
   "source": [
    "num1 = 11\n",
    "num2 = num1 - 4\n",
    "print(num2)\n",
    "\n",
    "num2 *= 2  # То же самое, что num2 = num2 * 2\n",
    "print(num2)\n",
    "\n",
    "print(3 ** 3)  # Возведение в степень"
   ]
  },
  {
   "cell_type": "markdown",
   "metadata": {},
   "source": [
    "Когда мы считываем числа с помощью input, питон не знает, что это числа.\n",
    "Он обрабатывает их как и весь обычный текст. Например, если мы захотим, сложить два\n",
    "слова, он соединит одно с другим:"
   ]
  },
  {
   "cell_type": "code",
   "execution_count": 43,
   "metadata": {},
   "outputs": [
    {
     "name": "stdout",
     "output_type": "stream",
     "text": [
      "ab\n",
      "cd\n",
      "Склеиваем строки: abcd\n"
     ]
    }
   ],
   "source": [
    "text_1 = input()\n",
    "text_2 = input()\n",
    "print('Склеиваем строки:', text_1 + text_2)"
   ]
  },
  {
   "cell_type": "markdown",
   "metadata": {},
   "source": [
    "Строку можно преобразовать в число с помощью функции int:"
   ]
  },
  {
   "cell_type": "code",
   "execution_count": 44,
   "metadata": {},
   "outputs": [
    {
     "name": "stdout",
     "output_type": "stream",
     "text": [
      "12\n",
      "3\n",
      "Складываем числа: 15\n"
     ]
    }
   ],
   "source": [
    "text_1 = input()\n",
    "text_2 = input()\n",
    "\n",
    "number_1 = int(text_1)\n",
    "number_2 = int(text_2)\n",
    "print('Складываем числа:', number_1 + number_2)"
   ]
  },
  {
   "cell_type": "markdown",
   "metadata": {},
   "source": [
    "Чтобы преобразовать число в строку, можно использовать функцию str:"
   ]
  },
  {
   "cell_type": "code",
   "execution_count": 45,
   "metadata": {},
   "outputs": [
    {
     "name": "stdout",
     "output_type": "stream",
     "text": [
      "15\n",
      "123\n"
     ]
    }
   ],
   "source": [
    "num1 = 12\n",
    "num2 = 3\n",
    "print(num1 + num2)  # 12 + 3 == 15\n",
    "\n",
    "str1 = str(num1)\n",
    "str2 = str(num2)\n",
    "\n",
    "print(str1 + str2)  # '12' + '3' == '123'"
   ]
  },
  {
   "cell_type": "markdown",
   "metadata": {},
   "source": [
    "Как числа, так и строки можно сравнивать с помощью операторов сравнения (<, >, <=, >=, ==, !=).\n",
    "\n",
    "Кроме того, для строк существует оператор in, который проверяет, содержится ли одна строка в другой."
   ]
  },
  {
   "cell_type": "code",
   "execution_count": 24,
   "metadata": {},
   "outputs": [
    {
     "name": "stdout",
     "output_type": "stream",
     "text": [
      "True\n",
      "True\n",
      "False\n"
     ]
    }
   ],
   "source": [
    "print(1 < 2)\n",
    "print(2 <= 2)\n",
    "print(2 == 3)"
   ]
  },
  {
   "cell_type": "code",
   "execution_count": 51,
   "metadata": {},
   "outputs": [
    {
     "name": "stdout",
     "output_type": "stream",
     "text": [
      "False\n",
      "True\n",
      "False\n",
      "True\n"
     ]
    }
   ],
   "source": [
    "print('abc' > 'c')\n",
    "print('d' < 'z')\n",
    "print('some string' != 'some string')\n",
    "print('бар' in 'капибара')"
   ]
  },
  {
   "cell_type": "markdown",
   "metadata": {},
   "source": [
    "Сравнение строк регистрозависимо:"
   ]
  },
  {
   "cell_type": "code",
   "execution_count": 26,
   "metadata": {},
   "outputs": [
    {
     "name": "stdout",
     "output_type": "stream",
     "text": [
      "False\n"
     ]
    }
   ],
   "source": [
    "print('string' == 'String')"
   ]
  },
  {
   "cell_type": "code",
   "execution_count": 28,
   "metadata": {},
   "outputs": [
    {
     "name": "stdout",
     "output_type": "stream",
     "text": [
      "True\n"
     ]
    }
   ],
   "source": [
    "print(1 < 2 < 4)"
   ]
  },
  {
   "cell_type": "code",
   "execution_count": 29,
   "metadata": {},
   "outputs": [
    {
     "name": "stdout",
     "output_type": "stream",
     "text": [
      "True\n",
      "False\n"
     ]
    }
   ],
   "source": [
    "x = 12\n",
    "print(10 < x < 30)\n",
    "x = 1\n",
    "print(10 < x < 30)"
   ]
  },
  {
   "cell_type": "code",
   "execution_count": 47,
   "metadata": {},
   "outputs": [],
   "source": [
    "# if (условие):\n",
    "#     код, который выполнится, если условие верно"
   ]
  },
  {
   "cell_type": "code",
   "execution_count": 35,
   "metadata": {},
   "outputs": [
    {
     "name": "stdout",
     "output_type": "stream",
     "text": [
      "Все так\n"
     ]
    }
   ],
   "source": [
    "if (1 < 2):\n",
    "    print(\"Все так\")\n",
    "\n",
    "if (3 < 2):\n",
    "    print(\"Мы никогда не попадем сюда\")"
   ]
  },
  {
   "cell_type": "code",
   "execution_count": 38,
   "metadata": {},
   "outputs": [
    {
     "name": "stdout",
     "output_type": "stream",
     "text": [
      "7\n",
      "Число 7 меньше 10\n"
     ]
    }
   ],
   "source": [
    "your_number = int(input())\n",
    "\n",
    "if (your_number < 10):\n",
    "    print(\"Число\", your_number, \"меньше 10\")"
   ]
  },
  {
   "cell_type": "code",
   "execution_count": 49,
   "metadata": {},
   "outputs": [],
   "source": [
    "# if (условие):\n",
    "#     код, который выполнится, если условие верно.\n",
    "#     может содержать несколько строк\n",
    "# else:\n",
    "#     код, который выполнится, если условие неверно.\n",
    "#     тоже может содержать несколько строк"
   ]
  },
  {
   "cell_type": "code",
   "execution_count": 48,
   "metadata": {},
   "outputs": [
    {
     "name": "stdout",
     "output_type": "stream",
     "text": [
      "13\n",
      "Число 13 больше или равно 10\n"
     ]
    }
   ],
   "source": [
    "your_number = int(input())\n",
    "x = 10\n",
    "\n",
    "if (your_number < x):\n",
    "    print(\"Число\", your_number, \"меньше\", x)\n",
    "else:\n",
    "    print(\"Число\", your_number, \"больше или равно\", x)"
   ]
  },
  {
   "cell_type": "markdown",
   "metadata": {},
   "source": [
    "Блоки кода в питоне форматируются с помощью отступов:"
   ]
  },
  {
   "cell_type": "code",
   "execution_count": 42,
   "metadata": {},
   "outputs": [
    {
     "name": "stdout",
     "output_type": "stream",
     "text": [
      "This line is not inside if block\n"
     ]
    }
   ],
   "source": [
    "if (False):\n",
    "    print(\"Something is wrong\")\n",
    "    print(\"Very wrong\")\n",
    "print('This line is not inside if block')"
   ]
  },
  {
   "cell_type": "markdown",
   "metadata": {},
   "source": [
    "Можно писать сложные условия с помощью логических и/или и логического отрицания (and, or, not):"
   ]
  },
  {
   "cell_type": "code",
   "execution_count": 54,
   "metadata": {},
   "outputs": [
    {
     "name": "stdout",
     "output_type": "stream",
     "text": [
      "ok\n"
     ]
    }
   ],
   "source": [
    "if (1 < 2 and 2 < 3):\n",
    "    print('ok')"
   ]
  },
  {
   "cell_type": "code",
   "execution_count": 56,
   "metadata": {},
   "outputs": [
    {
     "name": "stdout",
     "output_type": "stream",
     "text": [
      "True\n"
     ]
    }
   ],
   "source": [
    "print(not False)"
   ]
  },
  {
   "cell_type": "code",
   "execution_count": 58,
   "metadata": {},
   "outputs": [
    {
     "name": "stdout",
     "output_type": "stream",
     "text": [
      "ok\n"
     ]
    }
   ],
   "source": [
    "if (False or 2 < 3):\n",
    "    print('ok')"
   ]
  },
  {
   "cell_type": "markdown",
   "metadata": {},
   "source": [
    "http://pep8online.com/"
   ]
  }
 ],
 "metadata": {
  "kernelspec": {
   "display_name": "Python 3",
   "language": "python",
   "name": "python3"
  },
  "language_info": {
   "codemirror_mode": {
    "name": "ipython",
    "version": 3
   },
   "file_extension": ".py",
   "mimetype": "text/x-python",
   "name": "python",
   "nbconvert_exporter": "python",
   "pygments_lexer": "ipython3",
   "version": "3.7.0"
  }
 },
 "nbformat": 4,
 "nbformat_minor": 2
}
