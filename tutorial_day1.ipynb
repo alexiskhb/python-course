{
 "cells": [
  {
   "cell_type": "markdown",
   "metadata": {},
   "source": [
    "## Здравствуйте! Сегодня мы поизучаем Python\n",
    "\n",
    "Для того, чтобы начать, нужно установить python.\n",
    "Анаконда:\n",
    "https://docs.anaconda.com/anaconda/install/\n",
    "\n",
    "Чат группы:\n",
    "<ссылка на чат в телеге>\n",
    "\n",
    "Для того, чтобы начать практиковаться, необходимо запустить jupyter notebook.\n",
    "\n",
    "new -> python 3\n",
    "\n"
   ]
  },
  {
   "cell_type": "markdown",
   "metadata": {},
   "source": [
    "Начнем с команды print, потому что она самая простая.\n",
    "Чтобы запустить код ниже, выделите ячейку и нажмите Run (Ctrl+Enter)"
   ]
  },
  {
   "cell_type": "code",
   "execution_count": 1,
   "metadata": {
    "collapsed": true
   },
   "outputs": [
    {
     "name": "stdout",
     "output_type": "stream",
     "text": [
      "Привет!\n"
     ]
    }
   ],
   "source": [
    "print('Привет!')"
   ]
  },
  {
   "cell_type": "markdown",
   "metadata": {},
   "source": [
    "Как видите, print выводит на экран текст, который вы указали в кавычках:"
   ]
  },
  {
   "cell_type": "code",
   "execution_count": 3,
   "metadata": {
    "collapsed": true
   },
   "outputs": [
    {
     "name": "stdout",
     "output_type": "stream",
     "text": [
      "Любой текст, который вы пишете, будет написан\n"
     ]
    }
   ],
   "source": [
    "print('Любой текст, который вы пишете, будет написан')"
   ]
  },
  {
   "cell_type": "markdown",
   "metadata": {},
   "source": [
    "Можно выводить несколько сущностей одновременно. Обратите внимание на то, что не всегда всё нужно окружать кавычками:"
   ]
  },
  {
   "cell_type": "code",
   "execution_count": 5,
   "metadata": {
    "collapsed": true
   },
   "outputs": [
    {
     "name": "stdout",
     "output_type": "stream",
     "text": [
      "все слова разделены 1 пробелом\n"
     ]
    }
   ],
   "source": [
    "print('все', 'слова', 'разделены', 1, 'пробелом')"
   ]
  },
  {
   "cell_type": "markdown",
   "metadata": {},
   "source": [
    "Можно сделать программу, состоящую из нескольких команд:"
   ]
  },
  {
   "cell_type": "code",
   "execution_count": 6,
   "metadata": {
    "collapsed": true
   },
   "outputs": [
    {
     "name": "stdout",
     "output_type": "stream",
     "text": [
      "текст 1\n",
      "текст 2\n",
      "текст 3\n"
     ]
    }
   ],
   "source": [
    "print('текст', 1)\n",
    "print('текст', 2)\n",
    "print('текст', 3)"
   ]
  },
  {
   "cell_type": "code",
   "execution_count": 29,
   "metadata": {},
   "outputs": [
    {
     "name": "stdout",
     "output_type": "stream",
     "text": [
      "ыфв\n",
      "вы напечатали ыфв\n"
     ]
    }
   ],
   "source": [
    "text = input()\n",
    "print('вы напечатали', text)"
   ]
  },
  {
   "cell_type": "markdown",
   "metadata": {},
   "source": [
    "<рассказать про кэтс, показать WA, RE, PE и OK>"
   ]
  },
  {
   "cell_type": "markdown",
   "metadata": {},
   "source": [
    "Задачи:\n",
    "    1. Считать что-то, вывести текст + это что-то\n",
    "    2. Считать 2 строки, напечатать их в другом порядке\n",
    "    3. Считать строку и вывести ее в кавычках"
   ]
  },
  {
   "cell_type": "markdown",
   "metadata": {},
   "source": [
    "мы сохранили введённый пользователем текст в переменную text. переменная - это НЕЧТО, имеющее название и значение. в нашем случае название переменной - 'text', а значение - введённый вами текст. название переменной не обязано совпадать с её содержимым, но мы рекомендуем называть их осмысленно.\n",
    "= это оператор присваивания. с помощью него можно сохранить значение справа от оператора в переменной слева:"
   ]
  },
  {
   "cell_type": "code",
   "execution_count": 10,
   "metadata": {},
   "outputs": [
    {
     "name": "stdout",
     "output_type": "stream",
     "text": [
      "мама Малыша не продаст его за 100000000000\n"
     ]
    }
   ],
   "source": [
    "n = 100000000000\n",
    "print('мама Малыша не продаст его за', n)"
   ]
  },
  {
   "cell_type": "code",
   "execution_count": 28,
   "metadata": {},
   "outputs": [
    {
     "name": "stdout",
     "output_type": "stream",
     "text": [
      "5\n"
     ]
    }
   ],
   "source": [
    "print(2 + 3)"
   ]
  },
  {
   "cell_type": "markdown",
   "metadata": {},
   "source": [
    "Когда мы считываем числа с помощью input, питон не знает, что это числа.\n",
    "Он обрабатывает их как и весь обычный текст. Например, если мы захотим, сложить два\n",
    "слова, он соединит одно с другим:"
   ]
  },
  {
   "cell_type": "code",
   "execution_count": null,
   "metadata": {},
   "outputs": [],
   "source": [
    "text_1 = input()\n",
    "text_2 = input()\n",
    "print('Склеиваем строки: ', text_1 + text_2)"
   ]
  },
  {
   "cell_type": "markdown",
   "metadata": {},
   "source": [
    "Строку можно преобразовать в число с помощью функции int:"
   ]
  },
  {
   "cell_type": "code",
   "execution_count": 27,
   "metadata": {},
   "outputs": [
    {
     "name": "stdout",
     "output_type": "stream",
     "text": [
      "12\n",
      "3\n",
      "Склеиваем строки:  123\n",
      "34\n",
      "5\n",
      "Складываем числа:  39\n"
     ]
    }
   ],
   "source": [
    "text_1 = input()\n",
    "text_2 = input()\n",
    "\n",
    "number_1 = int(text_1)\n",
    "number_2 = int(text_2)\n",
    "print('Складываем числа: ', number_1 + number_2)"
   ]
  },
  {
   "cell_type": "markdown",
   "metadata": {},
   "source": [
    "Задачи:\n",
    "1. a + b с текстом\n",
    "2. яблоко + ананас = яблокоананас\n",
    "3. \n",
    "4.\n",
    "    "
   ]
  },
  {
   "cell_type": "code",
   "execution_count": null,
   "metadata": {},
   "outputs": [],
   "source": [
    "if <dasdas>\n",
    "not\n",
    "and\n"
   ]
  },
  {
   "cell_type": "code",
   "execution_count": null,
   "metadata": {},
   "outputs": [],
   "source": [
    "name_1 = input()\n",
    "name_2 = input()\n",
    "print(name_1 < name_2)"
   ]
  },
  {
   "cell_type": "code",
   "execution_count": 30,
   "metadata": {},
   "outputs": [
    {
     "ename": "SyntaxError",
     "evalue": "invalid syntax (<ipython-input-30-085d49b7b3f6>, line 1)",
     "output_type": "error",
     "traceback": [
      "\u001b[0;36m  File \u001b[0;32m\"<ipython-input-30-085d49b7b3f6>\"\u001b[0;36m, line \u001b[0;32m1\u001b[0m\n\u001b[0;31m    Задачи:\u001b[0m\n\u001b[0m           ^\u001b[0m\n\u001b[0;31mSyntaxError\u001b[0m\u001b[0;31m:\u001b[0m invalid syntax\n"
     ]
    }
   ],
   "source": [
    "Задачи:\n",
    "    2. Максимум из 3х чисел\n",
    "    1. физбаз\n",
    "    3. "
   ]
  },
  {
   "cell_type": "code",
   "execution_count": null,
   "metadata": {},
   "outputs": [],
   "source": []
  }
 ],
 "metadata": {
  "kernelspec": {
   "display_name": "Python 3",
   "language": "python",
   "name": "python3"
  },
  "language_info": {
   "codemirror_mode": {
    "name": "ipython",
    "version": 3
   },
   "file_extension": ".py",
   "mimetype": "text/x-python",
   "name": "python",
   "nbconvert_exporter": "python",
   "pygments_lexer": "ipython3",
   "version": "3.6.5"
  }
 },
 "nbformat": 4,
 "nbformat_minor": 2
}
