{
 "cells": [
  {
   "cell_type": "markdown",
   "metadata": {},
   "source": [
    "Вспомним операции, которые можно выполнять над числами:  \n",
    "сложение (+)  \n",
    "вычитание (-)  \n",
    "умножение (\\*)  \n",
    "деление (/)  \n",
    "деление с отбрасыванием остатка (//)  \n",
    "взятие остатка от деления (%) \n",
    "возведение в степень (\\*\\*)\n",
    "\n",
    "Очень важным понятием в программировании вообще является понятие **выражения**. У всякого выражения есть значение и тип. Например:"
   ]
  },
  {
   "cell_type": "code",
   "execution_count": 56,
   "metadata": {
    "collapsed": true
   },
   "outputs": [
    {
     "data": {
      "text/plain": [
       "4"
      ]
     },
     "execution_count": 56,
     "metadata": {},
     "output_type": "execute_result"
    }
   ],
   "source": [
    "2 + 2  # это выражение, значение которого 4, а тип - целое число"
   ]
  },
  {
   "cell_type": "code",
   "execution_count": null,
   "metadata": {},
   "outputs": [],
   "source": [
    "x = 2.5\n",
    "x*2  # значение - 5.0, тип - дробное число"
   ]
  },
  {
   "cell_type": "code",
   "execution_count": null,
   "metadata": {},
   "outputs": [],
   "source": [
    "x = 2  \n",
    "x*3  # значение - 6, тип - целое"
   ]
  },
  {
   "cell_type": "code",
   "execution_count": null,
   "metadata": {},
   "outputs": [],
   "source": [
    "s = 'texty text!'  \n",
    "s  # значение - 'texty text!', тип - строка  \n",
    "s\\*2  # значение - 'texty text!texty text!', тип - строка  "
   ]
  },
  {
   "cell_type": "code",
   "execution_count": null,
   "metadata": {},
   "outputs": [],
   "source": [
    "s == 'texty text!' #  это тоже выражение! его значение - True (истина), а тип - логический (bool)  \n",
    "1 < 0 # значение - False, тип - bool"
   ]
  },
  {
   "cell_type": "markdown",
   "metadata": {},
   "source": [
    "Выражения логического типа могут иметь только два значения: True или False"
   ]
  },
  {
   "cell_type": "code",
   "execution_count": null,
   "metadata": {},
   "outputs": [],
   "source": [
    "2 + 2 < 3 * 3  # и это тоже выражение! Его тип - bool"
   ]
  },
  {
   "cell_type": "markdown",
   "metadata": {},
   "source": [
    "У операций существует приоритет. Как известно, приоритет умножения выше, чем у сложения. Вот полный список операций, расположенных по убыванию приоритета:\n",
    "1. Возведение в степень (\\*\\*)  \n",
    "2. Унарный минус (-)  \n",
    "3. Умножение, деление (* / % //)  \n",
    "4. Сложение и вычитание (+ -)  \n",
    "5. Операторы сравнения (<= < > >=)  \n",
    "6. Операторы равенства (== !=)  \n",
    "7. Логические операторы (not or and)  \n",
    "\n",
    "Приоритет операций в выражениях можно устанавливать с помощью скобок:"
   ]
  },
  {
   "cell_type": "code",
   "execution_count": null,
   "metadata": {},
   "outputs": [],
   "source": [
    "(2 + 2) < (3 * 3)  # в этом выражении скобки не нужны, потому что приоритет оператора сравнения и так наименьший"
   ]
  },
  {
   "cell_type": "code",
   "execution_count": null,
   "metadata": {},
   "outputs": [],
   "source": [
    "(-9)**2  # без скобок значение этого выражения было бы -81"
   ]
  },
  {
   "cell_type": "code",
   "execution_count": null,
   "metadata": {},
   "outputs": [],
   "source": [
    "not ('Муха' == 'Слон' and 'Петя' == 'Маша')  # без скобок значение этого выражения было бы False"
   ]
  },
  {
   "cell_type": "code",
   "execution_count": 11,
   "metadata": {},
   "outputs": [],
   "source": [
    "# if условие:\n",
    "#     код, который выполнится, если условие верно.\n",
    "#     может содержать несколько строк\n",
    "# else:\n",
    "#     код, который выполнится, если условие неверно.\n",
    "#     тоже может содержать несколько строк"
   ]
  },
  {
   "cell_type": "markdown",
   "metadata": {},
   "source": [
    "Говоря формально, на месте **условия** должно находиться выражение, тип которого - bool."
   ]
  },
  {
   "cell_type": "markdown",
   "metadata": {},
   "source": [
    "Еще одна конструкция, которая требует логического выражения, - цикл **while**:"
   ]
  },
  {
   "cell_type": "code",
   "execution_count": 12,
   "metadata": {},
   "outputs": [],
   "source": [
    "# код перед циклом\n",
    "#\n",
    "# while условие:  # голова цикла \n",
    "#     тело цикла\n",
    "#     тело цикла\n",
    "#     тело цикла\n",
    "#     тело цикла\n",
    "#\n",
    "# код после цикла"
   ]
  },
  {
   "cell_type": "markdown",
   "metadata": {},
   "source": [
    "Когда интерпретатор достигает головы цикла, он вычисляет значение выражения на месте **условие**. Если значение **True**, выполняются все команды внутри тела цикла. После этого интерпретатор снова вычисляет значение **условия** и так далее. В случае, если значение **условия** **False**, интерпретатор переходит к коду после цикла."
   ]
  },
  {
   "cell_type": "code",
   "execution_count": 17,
   "metadata": {},
   "outputs": [
    {
     "name": "stdout",
     "output_type": "stream",
     "text": [
      "Now x is 1\n",
      "Now x is 2\n",
      "Now x is 3\n",
      "Now x is 4\n",
      "Now x is 5\n",
      "Now x is 6\n",
      "Now x is 7\n",
      "Now x is 8\n",
      "Finished\n"
     ]
    }
   ],
   "source": [
    "x = 0\n",
    "\n",
    "while x < 8:\n",
    "    x += 1\n",
    "    print('Now x is', x)\n",
    "    \n",
    "print('Finished')"
   ]
  },
  {
   "cell_type": "markdown",
   "metadata": {},
   "source": [
    "Только четные числа <= 10 :"
   ]
  },
  {
   "cell_type": "code",
   "execution_count": 5,
   "metadata": {},
   "outputs": [
    {
     "name": "stdout",
     "output_type": "stream",
     "text": [
      "2\n",
      "4\n",
      "6\n",
      "8\n",
      "10\n"
     ]
    }
   ],
   "source": [
    "x = 0\n",
    "\n",
    "while x < 10:\n",
    "    x += 1\n",
    "    if x % 2 == 0:\n",
    "        print(x)"
   ]
  },
  {
   "cell_type": "markdown",
   "metadata": {},
   "source": [
    "Проверим, сколько чисел от 1 до 100 делится на 7:"
   ]
  },
  {
   "cell_type": "code",
   "execution_count": 6,
   "metadata": {},
   "outputs": [
    {
     "name": "stdout",
     "output_type": "stream",
     "text": [
      "14\n"
     ]
    }
   ],
   "source": [
    "x = 0\n",
    "cnt = 0\n",
    "while x < 100:\n",
    "    x += 1\n",
    "    if x % 7 == 0:\n",
    "        cnt += 1\n",
    "\n",
    "print(cnt)"
   ]
  },
  {
   "cell_type": "code",
   "execution_count": 8,
   "metadata": {},
   "outputs": [],
   "source": [
    "# while True:\n",
    "#     print(\":(\")  # Бесконечный цикл!"
   ]
  },
  {
   "cell_type": "markdown",
   "metadata": {},
   "source": [
    "Существует возможность остановить выполнение цикла в произвольный момент времени с помощью команды **break** (справедливо как для цикла while, так и для for, о котором речь пойдет ниже):"
   ]
  },
  {
   "cell_type": "code",
   "execution_count": 7,
   "metadata": {},
   "outputs": [
    {
     "name": "stdout",
     "output_type": "stream",
     "text": [
      "1\n",
      "2\n",
      "3\n",
      "4\n"
     ]
    }
   ],
   "source": [
    "x = 0\n",
    "while True:\n",
    "    x += 1\n",
    "    if x == 5:\n",
    "        break \n",
    "    print(x)"
   ]
  },
  {
   "cell_type": "markdown",
   "metadata": {},
   "source": [
    "Также существует возможность в произвольный момент перейти к следующему шагу цикла (или, говорят, к следующей итерации) с помощью команды **continue**:"
   ]
  },
  {
   "cell_type": "code",
   "execution_count": 55,
   "metadata": {
    "collapsed": true
   },
   "outputs": [
    {
     "name": "stdout",
     "output_type": "stream",
     "text": [
      "1\n",
      "3\n"
     ]
    }
   ],
   "source": [
    "x = 0\n",
    "while x < 3:\n",
    "    x += 1\n",
    "    if x == 2:\n",
    "        continue \n",
    "    print(x)"
   ]
  },
  {
   "cell_type": "markdown",
   "metadata": {},
   "source": [
    "Во многих случаях удобнее использовать цикл **for**. Его особенность в том, что он перебирает все элементы в заданном списке:"
   ]
  },
  {
   "cell_type": "code",
   "execution_count": 28,
   "metadata": {
    "collapsed": true
   },
   "outputs": [
    {
     "name": "stdout",
     "output_type": "stream",
     "text": [
      "10\n",
      "20\n",
      "30\n",
      "Петя\n",
      "5\n"
     ]
    }
   ],
   "source": [
    "# здесь for и in ключевые слова,\n",
    "# x - переменная, а элементы в квадратных скобках справа от in - список\n",
    "# (элементы списка указаны через запятую)\n",
    "\n",
    "for x in [10, 20, 30, 'Петя', 5]:\n",
    "    print(x)"
   ]
  },
  {
   "cell_type": "markdown",
   "metadata": {},
   "source": [
    "Его можно использовать и в случаях, когда заранее известно, сколько раз нужно выполнить тело цикла. Для этого существует встроенная функция **range**, которая автоматически создает список чисел с необходимым их количеством:"
   ]
  },
  {
   "cell_type": "code",
   "execution_count": 52,
   "metadata": {},
   "outputs": [
    {
     "name": "stdout",
     "output_type": "stream",
     "text": [
      "0\n",
      "1\n",
      "2\n",
      "3\n"
     ]
    }
   ],
   "source": [
    "# на место \"range(4)\" здесь подставляется список из\n",
    "# четырех чисел, начиная с нуля: [0, 1, 2, 3]\n",
    "\n",
    "for i in range(4):\n",
    "    print(i)"
   ]
  },
  {
   "cell_type": "markdown",
   "metadata": {},
   "source": [
    "Эта функция позволяет гибко задавать диапазон чисел, указывая начало, конец и шаг арифметической прогрессии."
   ]
  },
  {
   "cell_type": "code",
   "execution_count": 24,
   "metadata": {},
   "outputs": [],
   "source": [
    "# for i in range(start=0, end, step=1):\n",
    "#     body\n",
    "#     body"
   ]
  },
  {
   "cell_type": "code",
   "execution_count": 25,
   "metadata": {},
   "outputs": [
    {
     "name": "stdout",
     "output_type": "stream",
     "text": [
      "-2\n",
      "0\n",
      "2\n",
      "4\n",
      "6\n",
      "8\n"
     ]
    }
   ],
   "source": [
    "# заметьте, что конец диапазона не включён в список\n",
    "for i in range(-2, 10, 2):\n",
    "    print(i)"
   ]
  },
  {
   "cell_type": "markdown",
   "metadata": {},
   "source": [
    "Если нужен цикл от большего числа к меньшему, можно задать прогрессию с отрицательным шагом."
   ]
  },
  {
   "cell_type": "code",
   "execution_count": 16,
   "metadata": {},
   "outputs": [
    {
     "name": "stdout",
     "output_type": "stream",
     "text": [
      "5\n",
      "4\n",
      "3\n",
      "2\n",
      "1\n"
     ]
    }
   ],
   "source": [
    "for i in range(5, 0, -1):\n",
    "    print(i)"
   ]
  },
  {
   "cell_type": "markdown",
   "metadata": {},
   "source": [
    "Телом цикла может быть произвольный код. В частности, в теле цикла может быть еще один цикл. Тогда его называют вложенным циклом:"
   ]
  },
  {
   "cell_type": "code",
   "execution_count": 70,
   "metadata": {},
   "outputs": [
    {
     "name": "stdout",
     "output_type": "stream",
     "text": [
      "i == 0\n",
      "----j == 0\n",
      "----j == 1\n",
      "i == 1\n",
      "----j == 0\n",
      "----j == 1\n",
      "i == 2\n",
      "----j == 0\n",
      "----j == 1\n"
     ]
    }
   ],
   "source": [
    "for i in range(3):\n",
    "    print('i ==', i)\n",
    "    for j in range(2):\n",
    "        print('----j ==', j)\n",
    "        "
   ]
  },
  {
   "cell_type": "markdown",
   "metadata": {},
   "source": [
    "Кроме **range** существует множество встроенных функций.  \n",
    "Одна из них - функция **len**. Она позволяет подсчитать количество символов в строке или количество элементов в списке:"
   ]
  },
  {
   "cell_type": "code",
   "execution_count": 51,
   "metadata": {},
   "outputs": [
    {
     "name": "stdout",
     "output_type": "stream",
     "text": [
      "В строке \"Карл у Клары\" 12 символов\n"
     ]
    }
   ],
   "source": [
    "sentence = 'Карл у Клары'\n",
    "print('В строке \"' + sentence + '\"', len(sentence), 'символов')"
   ]
  },
  {
   "cell_type": "code",
   "execution_count": 53,
   "metadata": {},
   "outputs": [
    {
     "name": "stdout",
     "output_type": "stream",
     "text": [
      "Длина списка == 3\n"
     ]
    }
   ],
   "source": [
    "numbers = [1, 2, 'три']\n",
    "print('Длина списка ==', len(numbers))"
   ]
  },
  {
   "cell_type": "markdown",
   "metadata": {},
   "source": [
    "Функции тоже могут участвовать в выражениях:"
   ]
  },
  {
   "cell_type": "code",
   "execution_count": 54,
   "metadata": {},
   "outputs": [
    {
     "name": "stdout",
     "output_type": "stream",
     "text": [
      "Длина имени + длина фамилии == 10\n"
     ]
    }
   ],
   "source": [
    "name = 'Карл'\n",
    "surname = 'Иванов'\n",
    "print('Длина имени + длина фамилии ==', len(name) + len(surname))"
   ]
  },
  {
   "cell_type": "markdown",
   "metadata": {},
   "source": [
    "## Подробнее о списках\n"
   ]
  },
  {
   "cell_type": "code",
   "execution_count": 15,
   "metadata": {},
   "outputs": [],
   "source": [
    "num1 = 1\n",
    "num2 = 2\n",
    "num3 = 3"
   ]
  },
  {
   "cell_type": "code",
   "execution_count": 16,
   "metadata": {},
   "outputs": [
    {
     "name": "stdout",
     "output_type": "stream",
     "text": [
      "[1, 2, 3]\n",
      "1\n"
     ]
    }
   ],
   "source": [
    "nums = [1, 2, 3]\n",
    "print(nums)\n",
    "print(nums[0])  # индексируются с 0"
   ]
  },
  {
   "cell_type": "code",
   "execution_count": 41,
   "metadata": {},
   "outputs": [
    {
     "name": "stdout",
     "output_type": "stream",
     "text": [
      "aaaaa\n"
     ]
    }
   ],
   "source": [
    "strings = ['adsn', 'sdkfj', 'aaaaa']\n",
    "print(strings[2])"
   ]
  },
  {
   "cell_type": "code",
   "execution_count": 39,
   "metadata": {},
   "outputs": [
    {
     "name": "stdout",
     "output_type": "stream",
     "text": [
      "13\n"
     ]
    }
   ],
   "source": [
    "everything = [13, 'some string', False]\n",
    "print(everything[0])"
   ]
  },
  {
   "cell_type": "markdown",
   "metadata": {},
   "source": [
    "Элементы списка можно изменять:"
   ]
  },
  {
   "cell_type": "code",
   "execution_count": 17,
   "metadata": {},
   "outputs": [
    {
     "name": "stdout",
     "output_type": "stream",
     "text": [
      "[1, 17, 3]\n"
     ]
    }
   ],
   "source": [
    "nums = [1, 2, 3]\n",
    "nums[1] = 17\n",
    "print(nums)"
   ]
  },
  {
   "cell_type": "code",
   "execution_count": 34,
   "metadata": {},
   "outputs": [
    {
     "name": "stdout",
     "output_type": "stream",
     "text": [
      "[1, 2, 3, 4, 5]\n"
     ]
    }
   ],
   "source": [
    "nums = [1, 2, 3]\n",
    "nums.append(4)\n",
    "nums.append(2 + 3)\n",
    "print(nums)"
   ]
  },
  {
   "cell_type": "code",
   "execution_count": 33,
   "metadata": {},
   "outputs": [
    {
     "ename": "IndexError",
     "evalue": "list index out of range",
     "output_type": "error",
     "traceback": [
      "\u001b[0;31m---------------------------------------------------------------------------\u001b[0m",
      "\u001b[0;31mIndexError\u001b[0m                                Traceback (most recent call last)",
      "\u001b[0;32m<ipython-input-33-2bd0d71d725e>\u001b[0m in \u001b[0;36m<module>\u001b[0;34m()\u001b[0m\n\u001b[0;32m----> 1\u001b[0;31m \u001b[0mprint\u001b[0m\u001b[0;34m(\u001b[0m\u001b[0mnums\u001b[0m\u001b[0;34m[\u001b[0m\u001b[0;36m100\u001b[0m\u001b[0;34m]\u001b[0m\u001b[0;34m)\u001b[0m\u001b[0;34m\u001b[0m\u001b[0m\n\u001b[0m",
      "\u001b[0;31mIndexError\u001b[0m: list index out of range"
     ]
    }
   ],
   "source": [
    "print(nums[100])"
   ]
  },
  {
   "cell_type": "code",
   "execution_count": 42,
   "metadata": {},
   "outputs": [
    {
     "name": "stdout",
     "output_type": "stream",
     "text": [
      "[0, 1, 4, 9, 16, 25, 36, 49, 64, 81]\n"
     ]
    }
   ],
   "source": [
    "nums = []  # empty list\n",
    "\n",
    "for i in range(10):\n",
    "    nums.append(i * i)\n",
    "\n",
    "print(nums)"
   ]
  },
  {
   "cell_type": "markdown",
   "metadata": {},
   "source": [
    "Пробежаться по всем элементам списка:"
   ]
  },
  {
   "cell_type": "code",
   "execution_count": 26,
   "metadata": {},
   "outputs": [
    {
     "name": "stdout",
     "output_type": "stream",
     "text": [
      "0\n",
      "1\n",
      "4\n",
      "9\n",
      "16\n",
      "25\n",
      "36\n",
      "49\n",
      "64\n",
      "81\n"
     ]
    }
   ],
   "source": [
    "for number in nums:\n",
    "    print(number)"
   ]
  },
  {
   "cell_type": "markdown",
   "metadata": {},
   "source": [
    "С помощью функции len можно узнать длину списка:"
   ]
  },
  {
   "cell_type": "code",
   "execution_count": 27,
   "metadata": {},
   "outputs": [
    {
     "name": "stdout",
     "output_type": "stream",
     "text": [
      "10\n"
     ]
    }
   ],
   "source": [
    "print(len(nums))"
   ]
  },
  {
   "cell_type": "markdown",
   "metadata": {},
   "source": [
    "Если нужны не только значения элементов, но и индексы:"
   ]
  },
  {
   "cell_type": "code",
   "execution_count": 47,
   "metadata": {},
   "outputs": [
    {
     "name": "stdout",
     "output_type": "stream",
     "text": [
      "index: 0 value: 0\n",
      "index: 1 value: 1\n",
      "index: 2 value: 4\n",
      "index: 3 value: 9\n",
      "index: 4 value: 16\n",
      "index: 5 value: 25\n",
      "index: 6 value: 36\n",
      "index: 7 value: 49\n",
      "index: 8 value: 64\n",
      "index: 9 value: 81\n"
     ]
    }
   ],
   "source": [
    "for i in range(len(nums)):\n",
    "    print('index:', i, 'value:', nums[i])"
   ]
  },
  {
   "cell_type": "markdown",
   "metadata": {},
   "source": [
    "Многомерные списки:"
   ]
  },
  {
   "cell_type": "code",
   "execution_count": 31,
   "metadata": {},
   "outputs": [
    {
     "name": "stdout",
     "output_type": "stream",
     "text": [
      "[[1, 2], [3, 4]]\n"
     ]
    }
   ],
   "source": [
    "multidim = [[1, 2], \n",
    "            [3, 4]]\n",
    "print(multidim)"
   ]
  },
  {
   "cell_type": "code",
   "execution_count": 32,
   "metadata": {},
   "outputs": [
    {
     "data": {
      "text/plain": [
       "2"
      ]
     },
     "execution_count": 32,
     "metadata": {},
     "output_type": "execute_result"
    }
   ],
   "source": [
    "multidim[0][1]"
   ]
  },
  {
   "cell_type": "code",
   "execution_count": 50,
   "metadata": {},
   "outputs": [
    {
     "name": "stdout",
     "output_type": "stream",
     "text": [
      "[1, 2]\n",
      "[3, 4]\n"
     ]
    }
   ],
   "source": [
    "for row in multidim:\n",
    "    print(row)  # this is list!"
   ]
  },
  {
   "cell_type": "markdown",
   "metadata": {},
   "source": [
    "Iterating over elements:"
   ]
  },
  {
   "cell_type": "code",
   "execution_count": 53,
   "metadata": {},
   "outputs": [
    {
     "name": "stdout",
     "output_type": "stream",
     "text": [
      "row: [1, 2]\n",
      "element 1\n",
      "element 2\n",
      "row: [3, 4]\n",
      "element 3\n",
      "element 4\n"
     ]
    }
   ],
   "source": [
    "for row in multidim:\n",
    "    print('row:', row)\n",
    "    for element in row:\n",
    "        print('element', element)"
   ]
  }
 ],
 "metadata": {
  "kernelspec": {
   "display_name": "Python 3",
   "language": "python",
   "name": "python3"
  },
  "language_info": {
   "codemirror_mode": {
    "name": "ipython",
    "version": 3
   },
   "file_extension": ".py",
   "mimetype": "text/x-python",
   "name": "python",
   "nbconvert_exporter": "python",
   "pygments_lexer": "ipython3",
   "version": "3.6.5"
  }
 },
 "nbformat": 4,
 "nbformat_minor": 2
}
